{
 "cells": [
  {
   "cell_type": "markdown",
   "metadata": {
    "slideshow": {
     "slide_type": "slide"
    }
   },
   "source": [
    "<center><strong>Text Mining, NLP, &amp; Social Media Analytics</strong><br />\n",
    "<strong><font color='blue'>V. Text/Document Clustering</font></strong><br />\n",
    "(C) Taufik Sutanto - 2018<br />\n",
    "<img alt=\"\" src=\"images/SocMed.png\" style=\"height:180px\" /> <strong>ITTC Universitas Ahmad Dahlan</strong><br />\n",
    "25 - 27 Januari 2018<br />\n",
    "Labkom ITTC Lt. 4 Gedung ITC Kampus 1 UAD Jl. Kapas No. 9, Semaki Yogyakarta</center>\n"
   ]
  },
  {
   "cell_type": "markdown",
   "metadata": {
    "slideshow": {
     "slide_type": "slide"
    }
   },
   "source": [
    "<p><strong>V. Text Clustering:</strong></p>\n",
    "\n",
    "<ol>\n",
    "\t<li>Pendahuluan Clustering</li>\n",
    "\t<li>Hard Clustering (agglomerative)</li>\n",
    "\t<li>Hierarchical Clustering</li>\n",
    "\t<li>Evaluation: internal vs External</li>\n",
    "\t<li>Cluster Interpretations</li>\n",
    "\t<li><strong>Studi Kasus/Latihan</strong></li>\n",
    "</ol>\n"
   ]
  },
  {
   "cell_type": "markdown",
   "metadata": {},
   "source": [
    "<h3>Clustering?</h3>\n",
    "\n",
    "<p><img alt=\"\" src=\"images/5_what_is_clustering.png\" style=\"height:457px; width:864px\" /></p>\n"
   ]
  },
  {
   "cell_type": "markdown",
   "metadata": {},
   "source": [
    "<p><img alt=\"\" src=\"images/56_Supervised VS unsupervised.png\" style=\"height:500px; width:1153px\" /></p>\n"
   ]
  },
  {
   "cell_type": "markdown",
   "metadata": {},
   "source": [
    "<p><img alt=\"\" src=\"images/5_Clus-Clas.png\" style=\"height:500px; width:766px\" /></p>\n"
   ]
  },
  {
   "cell_type": "markdown",
   "metadata": {},
   "source": [
    "<p><img alt=\"\" src=\"images/5_types_of_clustering.png\" style=\"height:500px; width:719px\" /></p>\n"
   ]
  },
  {
   "cell_type": "markdown",
   "metadata": {},
   "source": [
    "<h3>Metode Clustering yang akan kita bahas:</h3>\n",
    "\n",
    "<ol>\n",
    "\t<li>k-Means</li>\n",
    "\t<li>k-Means++</li>\n",
    "\t<li>Mini-Batch k-Means</li>\n",
    "\t<li>Mini-Batch k-Means++</li>\n",
    "\t<li>Spectral</li>\n",
    "\t<li>DBSCAN</li>\n",
    "\t<li>Hierarchical Clustering</li>\n",
    "</ol>\n"
   ]
  },
  {
   "cell_type": "markdown",
   "metadata": {},
   "source": [
    "<h2>k-Means</h2>\n",
    "\n",
    "<p><img alt=\"\" src=\"images/5_Kmeans_animation.gif\" style=\"height:300px; width:300px\" /></p>\n"
   ]
  },
  {
   "cell_type": "markdown",
   "metadata": {},
   "source": [
    "<p><img alt=\"\" src=\"images/5_kmeans_Algorithm.png\" style=\"height:229px; width:430px\" /></p>\n",
    "\n",
    "<ul>\n",
    "\t<li>\n",
    "\t<h3>Apakah pengaruh menggunakan centroid dan algoritma ini terhadap hasil cluster?</h3>\n",
    "\t</li>\n",
    "\t<li>\n",
    "\t<h3>k-Means tidak Robust terhadap outlier, Why? ==&gt; lalu apa yang sebaiknya dilakukan?</h3>\n",
    "\t</li>\n",
    "</ul>\n"
   ]
  },
  {
   "cell_type": "markdown",
   "metadata": {},
   "source": [
    "<h3>k-Means++</h3>\n",
    "\n",
    "<p>k-means memulai algoritmanya dengan mengacak centroid awal. dan k-means tidak &quot;robust&quot; terhadap centroid awal.</p>\n",
    "\n",
    "<p>Apa artinya?</p>\n",
    "\n",
    "<p><strong>k-Means akan menghasilkan hasil yang berbeda-beda jika di-run beberapa kali!....</strong></p>\n",
    "\n",
    "\n",
    "<p>k-Means++ &quot;mengatasi&quot; hal ini:</p>\n",
    "\n",
    "<p>inisialisasi centroid tidak random, tapi dengan menghitung probabilitas terbaik bagi centroid awal.</p>\n",
    "\n",
    "<p>Keuntungan selain robust, biasanya iterasi yang dibutuhkan jauh lebih sedikit ketimbang k-means++</p>\n",
    "\n",
    "<p>Reference :&nbsp;http://ilpubs.stanford.edu:8090/778/1/2006-13.pdf&nbsp;</p>\n"
   ]
  },
  {
   "cell_type": "markdown",
   "metadata": {},
   "source": [
    "<h3>Mini-Batch k-Means:</h3>\n",
    "\n",
    "<p><img alt=\"\" src=\"images/5_minibatch.JPG\" style=\"height:350px; width:458px\" /></p>\n",
    "\n",
    "<p>&nbsp;</p>\n",
    "\n",
    "<p><strong>Referensi</strong>: *Sculley, D. (2010, April). Web-scale k-means clustering. In&nbsp;<em>Proceedings of the 19th international conference on World wide web</em>&nbsp;(pp. 1177-1178). ACM.</p>\n",
    "\n",
    "<p>* Google</p>\n"
   ]
  },
  {
   "cell_type": "markdown",
   "metadata": {},
   "source": [
    "<h3>Spectral Clustering</h3>\n",
    "\n",
    "<ol>\n",
    "\t<li>Butuh matrix similarity S = S(xi,xj)</li>\n",
    "\t<li>S menjadi Graph tidak berarah</li>\n",
    "\t<li>Karena baris=kolom dan simetris ==&gt; positive definite</li>\n",
    "\t<li>Karena positive definite ==&gt; eigenvalue real</li>\n",
    "\t<li>Eigenvalue dari matrix ini == Spectral Teory :&nbsp;https://en.wikipedia.org/wiki/Spectral_graph_theory&nbsp;</li>\n",
    "\t<li>Maknanya adalah seperti &quot;centrality analysis&quot; di Social media Analytic, yaitu:<br />\n",
    "\tmembentuk cluster graph sedemikian sehingga di suatu cluster tertentu weight (konektivitas)-nya paling besar.</li>\n",
    "</ol>\n",
    "\n",
    "<p><img alt=\"\" src=\"images/5_Spectral_graph.png\" style=\"height:134px; width:407px\" /></p>\n",
    "\n",
    "<p>&nbsp;</p>\n",
    "\n",
    "<p><u><strong>referensi</strong></u>:&nbsp;Ng, A. Y., Jordan, M. I., &amp; Weiss, Y. (2002). On spectral clustering: Analysis and an algorithm. In&nbsp;<em>Advances in neural information processing systems</em>&nbsp;(pp. 849-856).</p>\n",
    "\n",
    "<h3>&nbsp;</h3>\n"
   ]
  },
  {
   "cell_type": "markdown",
   "metadata": {},
   "source": [
    "<p>Karenanya Spectral bisa mengelompokkan data yang tidak &quot;spherical&quot; (bulat seperti k-means)</p>\n",
    "\n",
    "<p><img alt=\"\" src=\"images/5_Spectral_kmeans.png\" style=\"height:284px; width:671px\" /></p>\n"
   ]
  },
  {
   "cell_type": "markdown",
   "metadata": {},
   "source": [
    "<h2>DBSCAN</h2>\n",
    "\n",
    "<p><img alt=\"\" src=\"images/5_DBSCAN.gif\" style=\"height:360px; width:690px\" /></p>\n",
    "\n",
    "<p>Karena algoritma (cara kerjanya) ini maka DBSCAN sering digunakan untuk (multivariate) outlier detection.</p>\n"
   ]
  },
  {
   "cell_type": "markdown",
   "metadata": {},
   "source": [
    "<h3>hierarchical clustering</h3>\n",
    "\n",
    "<p><img alt=\"\" src=\"images/5_hierarchical.gif\" style=\"height:324px; width:720px\" /></p>\n"
   ]
  },
  {
   "cell_type": "markdown",
   "metadata": {},
   "source": [
    "<p><img alt=\"\" src=\"images/5_linkages.png\" style=\"height:500px; width:749px\" /></p>\n"
   ]
  },
  {
   "cell_type": "markdown",
   "metadata": {},
   "source": [
    "<p><img alt=\"\" src=\"images/5_Hierarchical_Text_Clustering_in_Genes_penyakit.jpg\" style=\"height:200px; width:379px\" /></p>\n"
   ]
  },
  {
   "cell_type": "markdown",
   "metadata": {},
   "source": [
    "<p><img alt=\"\" src=\"images/5_clustering_benchmarks.png\" style=\"height:500px; width:962px\" /></p>\n"
   ]
  },
  {
   "cell_type": "markdown",
   "metadata": {},
   "source": [
    "<p><img alt=\"\" src=\"images/5_Cluster_yg_mana.png\" style=\"height:400px; width:694px\" /></p>\n"
   ]
  },
  {
   "cell_type": "code",
   "execution_count": 1,
   "metadata": {},
   "outputs": [
    {
     "data": {
      "text/plain": [
       "['data/b1.txt', 'data/b2.txt', 'data/b3.txt', 'data/b4.txt', 'data/b5.txt']"
      ]
     },
     "execution_count": 1,
     "metadata": {},
     "output_type": "execute_result"
    }
   ],
   "source": [
    "# Aplikasi Text Clustering di Python\n",
    "path = 'data/'\n",
    "fileS = [path+'b'+str(i)+'.txt' for i in range(1,6)]\n",
    "fileS"
   ]
  },
  {
   "cell_type": "code",
   "execution_count": 2,
   "metadata": {},
   "outputs": [
    {
     "name": "stdout",
     "output_type": "stream",
     "text": [
      "done!\n"
     ]
    }
   ],
   "source": [
    "# Load semua dokumen di D lalu preprocess\n",
    "import TSutanto_lib as ittc \n",
    "D = []\n",
    "for f in fileS:\n",
    "    doc = ittc.LoadDocuments(file = f)[0]\n",
    "    doc = ittc.cleanText('. '.join(doc), lemma=True, lang = 'id', stop = True, symbols_remove = True, min_charLen = 2, fix={})\n",
    "    D.append('. '.join(doc))\n",
    "print('done!')"
   ]
  },
  {
   "cell_type": "code",
   "execution_count": 3,
   "metadata": {},
   "outputs": [
    {
     "name": "stdout",
     "output_type": "stream",
     "text": [
      "(5, 30)\n"
     ]
    }
   ],
   "source": [
    "# Bentuk VSM-nya\n",
    "from sklearn.feature_extraction.text import TfidfVectorizer\n",
    "\n",
    "tfidf_vectorizer = TfidfVectorizer(max_df=0.95, min_df=2)\n",
    "tfidf = tfidf_vectorizer.fit_transform(D)\n",
    "print(tfidf.shape)"
   ]
  },
  {
   "cell_type": "code",
   "execution_count": 4,
   "metadata": {},
   "outputs": [
    {
     "data": {
      "text/plain": [
       "KMeans(algorithm='auto', copy_x=True, init='random', max_iter=300,\n",
       "    n_clusters=2, n_init=10, n_jobs=1, precompute_distances='auto',\n",
       "    random_state=None, tol=0.0001, verbose=0)"
      ]
     },
     "execution_count": 4,
     "metadata": {},
     "output_type": "execute_result"
    }
   ],
   "source": [
    "# k-means clustering\n",
    "from sklearn import cluster\n",
    "from sklearn.preprocessing import StandardScaler\n",
    "X = StandardScaler(with_mean=False).fit_transform(tfidf) # normalisasi, with_mean=False karena tfidf Sparse bukan Dense\n",
    "k = 2\n",
    "km = cluster.KMeans(n_clusters=k, init='random', max_iter=300, tol=0.0001, n_jobs=1)\n",
    "km.fit(X)"
   ]
  },
  {
   "cell_type": "code",
   "execution_count": 5,
   "metadata": {},
   "outputs": [
    {
     "data": {
      "text/plain": [
       "array([1, 0, 0, 1, 0])"
      ]
     },
     "execution_count": 5,
     "metadata": {},
     "output_type": "execute_result"
    }
   ],
   "source": [
    "# Hasil clusteringnya\n",
    "C1 = km.predict(X)\n",
    "C1\n",
    "# Apa beda label ini dengan klasifikasi?"
   ]
  },
  {
   "cell_type": "code",
   "execution_count": 6,
   "metadata": {},
   "outputs": [
    {
     "data": {
      "text/plain": [
       "array([0, 1, 1, 0, 1])"
      ]
     },
     "execution_count": 6,
     "metadata": {},
     "output_type": "execute_result"
    }
   ],
   "source": [
    "# k-means++ clustering http://scikit-learn.org/stable/modules/generated/sklearn.cluster.KMeans.html\n",
    "kmPP = cluster.KMeans(n_clusters=k, init='k-means++', max_iter=300, tol=0.0001, n_jobs=1)\n",
    "kmPP.fit(X)\n",
    "C2 = kmPP.predict(X)\n",
    "C2"
   ]
  },
  {
   "cell_type": "code",
   "execution_count": 7,
   "metadata": {},
   "outputs": [
    {
     "data": {
      "text/plain": [
       "array([0, 1, 0, 0, 1])"
      ]
     },
     "execution_count": 7,
     "metadata": {},
     "output_type": "execute_result"
    }
   ],
   "source": [
    "# MiniBatch k-Means http://scikit-learn.org/stable/modules/generated/sklearn.cluster.MiniBatchKMeans.html\n",
    "#minibatch tidak bisa parallel\n",
    "# parameter penting km = batch_size ... pada aplikasi sesungguhnya disarankan \"minimal\" 3xk\n",
    "mbkm = cluster.MiniBatchKMeans(n_clusters=2, init='random', max_iter=300, tol=0.0001, batch_size=3) \n",
    "mbkm.fit(X)\n",
    "C3 = mbkm.predict(X)\n",
    "C3"
   ]
  },
  {
   "cell_type": "code",
   "execution_count": 8,
   "metadata": {},
   "outputs": [
    {
     "data": {
      "text/plain": [
       "array([0, 1, 1, 0, 1])"
      ]
     },
     "execution_count": 8,
     "metadata": {},
     "output_type": "execute_result"
    }
   ],
   "source": [
    "# MiniBatch k-Means++\n",
    "mbkm = cluster.MiniBatchKMeans(n_clusters=2, init='k-means++', max_iter=300, tol=0.0001, batch_size=3) \n",
    "mbkm.fit(X)\n",
    "C4 = mbkm.predict(X)\n",
    "C4"
   ]
  },
  {
   "cell_type": "code",
   "execution_count": 9,
   "metadata": {},
   "outputs": [
    {
     "data": {
      "text/plain": [
       "array([0, 1, 0, 0, 1])"
      ]
     },
     "execution_count": 9,
     "metadata": {},
     "output_type": "execute_result"
    }
   ],
   "source": [
    "# Spectral : http://scikit-learn.org/stable/modules/generated/sklearn.cluster.SpectralClustering.html\n",
    "import numpy as np\n",
    "\n",
    "spectral = cluster.SpectralClustering(n_clusters=2, eigen_solver='arpack', affinity=\"rbf\")\n",
    "spectral.fit(X)\n",
    "C5 = spectral.labels_.astype(np.int)\n",
    "C5"
   ]
  },
  {
   "cell_type": "code",
   "execution_count": 10,
   "metadata": {},
   "outputs": [
    {
     "data": {
      "text/plain": [
       "array([-1, -1, -1, -1, -1])"
      ]
     },
     "execution_count": 10,
     "metadata": {},
     "output_type": "execute_result"
    }
   ],
   "source": [
    "# DBSCAN http://scikit-learn.org/stable/modules/generated/sklearn.cluster.DBSCAN.html\n",
    "# tidak membutuhkan input parameter k!!!... sangat diperlukan untuk text Mining ... atau clustering data yang besar\n",
    "dbscan = cluster.DBSCAN(eps=0.5)\n",
    "dbscan.fit(X)\n",
    "C6 = dbscan.labels_.astype(np.int)\n",
    "C6\n",
    "# apa makna cluster label -1?"
   ]
  },
  {
   "cell_type": "code",
   "execution_count": 11,
   "metadata": {},
   "outputs": [
    {
     "data": {
      "text/plain": [
       "array([1, 0, 0, 1, 0])"
      ]
     },
     "execution_count": 11,
     "metadata": {},
     "output_type": "execute_result"
    }
   ],
   "source": [
    "# Hierarchical http://scikit-learn.org/stable/modules/generated/sklearn.cluster.AgglomerativeClustering.html#sklearn.cluster.AgglomerativeClustering\n",
    "\n",
    "hierarchical = cluster.AgglomerativeClustering(n_clusters=2, linkage='average')\n",
    "hierarchical.fit(X.toarray()) # Hierarchical TIDAK BISA menggunakan matriks sparse!!!...\n",
    "C7 = hierarchical.labels_.astype(np.int)\n",
    "C7"
   ]
  },
  {
   "cell_type": "markdown",
   "metadata": {},
   "source": [
    "<p><strong>Evaluasi Clustering: Internal VS External</strong></p>\n",
    "\n",
    "<p><img alt=\"\" src=\"images/5_Clustering_evaluation.jpg\" style=\"height:400px; width:533px\" /></p>\n"
   ]
  },
  {
   "cell_type": "code",
   "execution_count": 12,
   "metadata": {},
   "outputs": [
    {
     "data": {
      "text/plain": [
       "0.11114599663865676"
      ]
     },
     "execution_count": 12,
     "metadata": {},
     "output_type": "execute_result"
    }
   ],
   "source": [
    "#Evaluasi : Internal . Contoh Silouette Coefficient ==> warning hanya cocok untuk k-means\n",
    "from sklearn.metrics import silhouette_score as siluet\n",
    "Sil_Score = siluet(X,C1)\n",
    "Sil_Score\n",
    "# Bagaimana cara kerja dan interpretasinya?"
   ]
  },
  {
   "cell_type": "code",
   "execution_count": 13,
   "metadata": {},
   "outputs": [
    {
     "data": {
      "text/plain": [
       "0.020570659450692717"
      ]
     },
     "execution_count": 13,
     "metadata": {},
     "output_type": "execute_result"
    }
   ],
   "source": [
    "# Bagaimana dengan evaluasi External?\n",
    "from sklearn.metrics.cluster import homogeneity_score as purity\n",
    "\n",
    "GT = [1,1,0,0,0] # misal ini adalah ground truth/golden standard\n",
    "purity(GT, C1)"
   ]
  },
  {
   "cell_type": "code",
   "execution_count": 14,
   "metadata": {},
   "outputs": [
    {
     "data": {
      "text/plain": [
       "0.020570659450692717"
      ]
     },
     "execution_count": 14,
     "metadata": {},
     "output_type": "execute_result"
    }
   ],
   "source": [
    "# Evaluasi External NMI \n",
    "# teorinya ada disini: https://taufiksutanto.blogspot.co.id/2017/11/evaluasi-eksternal-clustering-pairwise.html\n",
    "from sklearn.metrics import normalized_mutual_info_score as NMI\n",
    "NMI(GT,C1)\n",
    "# untuk F-Score ada juga code dan penjelasannya di blog post di atas"
   ]
  },
  {
   "cell_type": "code",
   "execution_count": 15,
   "metadata": {},
   "outputs": [
    {
     "data": {
      "text/plain": [
       "array([[0.59266767, 1.6384673 , 1.14878346, 0.59266767, 1.35358965,\n",
       "        0.        , 1.35687105, 1.11422246, 0.50670245, 0.63767599,\n",
       "        0.55543689, 1.35358965, 1.46166172, 0.46064233, 0.50670245,\n",
       "        1.35687105, 1.35687105, 0.50670245, 0.        , 1.36032233,\n",
       "        0.90533204, 0.76244784, 0.46064233, 1.21331728, 0.        ,\n",
       "        0.50670245, 1.2920091 , 0.        , 0.        , 1.35687105],\n",
       "       [1.12865622, 1.39290556, 0.        , 1.12865622, 0.        ,\n",
       "        1.99035651, 0.        , 0.        , 1.20042101, 1.07863039,\n",
       "        1.35356146, 0.        , 0.        , 1.22863332, 1.20042101,\n",
       "        0.        , 0.        , 1.20042101, 1.99035651, 0.        ,\n",
       "        0.68980019, 0.86580066, 1.22863332, 1.00788774, 1.99546354,\n",
       "        1.20042101, 0.        , 1.99035651, 1.99035651, 0.        ]])"
      ]
     },
     "execution_count": 15,
     "metadata": {},
     "output_type": "execute_result"
    }
   ],
   "source": [
    "# Evaluasi sebenarnya tidak terlalu penting di Unsupervised learning.\n",
    "# inilah yang membedakan \"clustering\" dan \"clustering Analysis\"\n",
    "# yang lebih penting adalah interpretasi, tapi Bagaimana?\n",
    "# contoh k-means\n",
    "centroids = km.cluster_centers_\n",
    "centroids # perhatikan ada 2 centroids, karena ada 2 cluster"
   ]
  },
  {
   "cell_type": "code",
   "execution_count": 16,
   "metadata": {},
   "outputs": [
    {
     "name": "stdout",
     "output_type": "stream",
     "text": [
      "[(1.3568710475171635, (15,)), (1.3568710475171635, (29,)), (1.360322329029181, (19,)), (1.4616617161464116, (12,)), (1.638467297502179, (1,))]\n"
     ]
    }
   ],
   "source": [
    "# misal mau menginterpretasi cluster pertama\n",
    "# kita akan mencari m nilai terbesar di centroidnya, misal m=5\n",
    "m = 5\n",
    "ctr1 = centroids[0]\n",
    "m_highest = ittc.get_nMax(ctr1,m)\n",
    "print(m_highest)\n",
    "idx = [t[1][0] for t in m_highest]"
   ]
  },
  {
   "cell_type": "code",
   "execution_count": 17,
   "metadata": {},
   "outputs": [
    {
     "data": {
      "text/plain": [
       "['kembang', 'wajib', 'maju', 'indonesia', 'adil']"
      ]
     },
     "execution_count": 17,
     "metadata": {},
     "output_type": "execute_result"
    }
   ],
   "source": [
    "# kemudian kita print terms/kata yang correspond terhadap index vector tersebut\n",
    "idx_kata = dict(map(reversed, tfidf_vectorizer.vocabulary_.items()))\n",
    "[idx_kata[i] for i in idx]"
   ]
  },
  {
   "cell_type": "code",
   "execution_count": 18,
   "metadata": {},
   "outputs": [],
   "source": [
    "# Bagaimana dengan plot menggunakan informasi cluster label?\n",
    "# harus mereduksi terlebih dahulu data kita yang berada di dimensi tinggi, ke dimensi yang lebih rendah\n",
    "# state-of-the-art untuk hal ini saat ini adalah t-SNE\n",
    "from sklearn.manifold import TSNE\n",
    "X2D = TSNE(n_components=2).fit_transform(tfidf.toarray())\n",
    "# why tfidf and not X ?"
   ]
  },
  {
   "cell_type": "code",
   "execution_count": 21,
   "metadata": {},
   "outputs": [
    {
     "data": {
      "image/png": "[encoded data removed]",
      "text/plain": [
       "<matplotlib.figure.Figure at 0x1eb77ebe4a8>"
      ]
     },
     "metadata": {},
     "output_type": "display_data"
    },
    {
     "data": {
      "image/png": "[encoded data removed]",
      "text/plain": [
       "<matplotlib.figure.Figure at 0x1eb77f4e2b0>"
      ]
     },
     "metadata": {},
     "output_type": "display_data"
    },
    {
     "data": {
      "image/png": "[encoded data removed]",
      "text/plain": [
       "<matplotlib.figure.Figure at 0x1eb77f889b0>"
      ]
     },
     "metadata": {},
     "output_type": "display_data"
    }
   ],
   "source": [
    "import matplotlib.pyplot as plt\n",
    "# warna harus integer positif, maka\n",
    "warna = [k+1 for k in C1]\n",
    "fig, ax = plt.subplots()\n",
    "ax.scatter(X2D[:,0], X2D[:,1], c=warna)\n",
    "plt.show()"
   ]
  },
  {
   "cell_type": "markdown",
   "metadata": {},
   "source": [
    "# Diskusi k optimal di k-means?"
   ]
  },
  {
   "cell_type": "markdown",
   "metadata": {},
   "source": [
    "<h2>Latihan:</h2>\n",
    "\n",
    "<ol>\n",
    "\t<li>load semua dokumen txt di folder C:\\ITTC\\data</li>\n",
    "\t<li>&nbsp;Lakukan preprocessing</li>\n",
    "\t<li>&nbsp;Bentuk vsmnya</li>\n",
    "\t<li>lakukan k-means++ clustering, misal k=3</li>\n",
    "\t<li>Evaluasi secara internal</li>\n",
    "\t<li>Plot hasilnya</li>\n",
    "\t<li>Interpretasi &quot;semua&quot; centroidnya.</li>\n",
    "</ol>\n"
   ]
  },
  {
   "cell_type": "markdown",
   "metadata": {},
   "source": [
    "<p><img alt=\"\" src=\"images/5_saveme_clustering.jpg\" style=\"height:400px; width:400px\" /></p>\n"
   ]
  }
 ],
 "metadata": {
  "celltoolbar": "Slideshow",
  "kernelspec": {
   "display_name": "Python 3",
   "language": "python",
   "name": "python3"
  },
  "language_info": {
   "codemirror_mode": {
    "name": "ipython",
    "version": 3
   },
   "file_extension": ".py",
   "mimetype": "text/x-python",
   "name": "python",
   "nbconvert_exporter": "python",
   "pygments_lexer": "ipython3",
   "version": "3.6.3"
  }
 },
 "nbformat": 4,
 "nbformat_minor": 2
}
