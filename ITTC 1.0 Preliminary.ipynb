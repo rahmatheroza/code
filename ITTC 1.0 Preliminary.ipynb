{
 "cells": [
  {
   "cell_type": "markdown",
   "metadata": {
    "slideshow": {
     "slide_type": "slide"
    }
   },
   "source": [
    "<center><strong>Text Mining, NLP, &amp; Social Media Analytics</strong><br />\n",
    "<strong><font color='blue'>I. Pendahuluan</font></strong><br />\n",
    "(C) Taufik Sutanto - 2018<br />\n",
    "<img alt=\"\" src=\"images/SocMed.png\" style=\"height:180px\" /> <strong>ITTC Universitas Ahmad Dahlan</strong><br />\n",
    "29 - 31 Maret 2018<br />\n",
    "Labkom ITTC Lt. 4 Gedung ITC Kampus 1 UAD Jl. Kapas No. 9, Semaki Yogyakarta</center>\n"
   ]
  },
  {
   "cell_type": "markdown",
   "metadata": {
    "slideshow": {
     "slide_type": "slide"
    }
   },
   "source": [
    "<p><strong>Outline Section ini:</strong></p>\n",
    "\n",
    "<ol>\n",
    "\t<li>Introduction: perkenalan</li>\n",
    "\t<li>Preliminary Natural Language Processing (NLP)</li>\n",
    "\t<li>Mengapa Social Media Analytics juga diikutkan?</li>\n",
    "\t<li>Scope pelatihan</li>\n",
    "\t<li>Modul Python &amp; (expected) Machine Requirement</li>\n",
    "\t<li>Instalasi Modul dan tools pendukung lainnya</li>\n",
    "\t<li>Referensi &amp; Resources Tambahan</li>\n",
    "\t<li>Penjelasan singkat setiap segmen pelatihan</li>\n",
    "</ol>\n"
   ]
  },
  {
   "cell_type": "markdown",
   "metadata": {
    "slideshow": {
     "slide_type": "slide"
    }
   },
   "source": [
    "<p><img alt=\"\" src=\"images/1_TS.jpg\" style=\"height:614px; width:825px\" /></p>\n"
   ]
  },
  {
   "cell_type": "markdown",
   "metadata": {},
   "source": [
    "<p><strong>Getting to know each-other:</strong></p>\n",
    "\n",
    "<ul>\n",
    "\t<li>Berapa banyak pelajar? pegawai?</li>\n",
    "\t<li>Berapa banyak yang sudah belajar NLP/TextMining sebelumnya?</li>\n",
    "\t<li>Siapa yang belum lama menggunakan Python?</li>\n",
    "\t<li>Siapakah yang menggunakan machine (komputer) selain windows?</li>\n",
    "\t<li>Get to know your neighbors.</li>\n",
    "\t<li>Ada pertanyaan sebelum kita mulai?</li>\n",
    "</ul>\n"
   ]
  },
  {
   "cell_type": "markdown",
   "metadata": {
    "slideshow": {
     "slide_type": "slide"
    }
   },
   "source": [
    "<p><strong>Introduction</strong></p>\n",
    "\n",
    "<p>Natural Language Processing (NLP) - Pemrosesan Bahasa Alami (PBA):&nbsp;</p>\n",
    "\n",
    "<p><br />\n",
    "&quot;<big><em>Sebuah cabang ilmu&nbsp;(AI/Computational Linguistik) yang mempelajari bagaimana&nbsp;bahasa (alami) manusia (terucap/tertulis) dapat dipahami dengan baik oleh komputer dan komputer dapat merespon dengan cara yang serupa ke manusia</em></big>&quot;.</p>\n"
   ]
  },
  {
   "cell_type": "markdown",
   "metadata": {
    "slideshow": {
     "slide_type": "slide"
    }
   },
   "source": [
    "<p>&nbsp;</p>\n",
    "\n",
    "<p><img alt=\"\" src=\"images/1_jarvis.jpg\" style=\"height:450px; width:873px\" /></p>\n",
    "\n",
    "<p><a href=\"https://www.turn-on.de/lifestyle/topliste/zehn-film-gadgets-die-wir-uns-im-wahren-leben-wuenschen-4413\" target=\"_blank\"><strong>[Image Source]</strong></a></p>\n"
   ]
  },
  {
   "cell_type": "markdown",
   "metadata": {
    "slideshow": {
     "slide_type": "slide"
    }
   },
   "source": [
    "<p><strong>Aplikasi Umum NLP:</strong></p>\n",
    "\n",
    "<ol>\n",
    "\t<li>Machine Translation (Misal&nbsp;https://translate.google.com/ )</li>\n",
    "\t<li>Information Retrieval (IR)&nbsp;(misal www.google.com, bing, elasticsearch, etc.)</li>\n",
    "\t<li>Man-Machine Interface (misal Siri, cortana, atau Alexa)</li>\n",
    "</ol>\n"
   ]
  },
  {
   "cell_type": "markdown",
   "metadata": {
    "slideshow": {
     "slide_type": "slide"
    }
   },
   "source": [
    "<p><strong>Apakah Perbedaan antara NLP dan Text Mining (TM)?</strong></p>\n",
    "\n",
    "<p>TM (terkadang disebut Text Analytics) adalah sebuah pemrosesan teks (biasanya dalam skala besar) untuk menghasilkan (generate) informasi atau insights. Untuk menghasilkan informasi TM menggunakan beberapa metode, termasuk NLP. TM mengolah teks secara eksplisit, sementara NLP mencoba mencari makna latent (tersembunyi) lewat aturan bahasa (e.g. grammar/idioms/Semantics).<br />\n",
    "<strong>Contoh aplikasi TM</strong> : Clustering, Klasifikasi, Social Media Analytics (SMA).</p>\n"
   ]
  },
  {
   "cell_type": "markdown",
   "metadata": {
    "slideshow": {
     "slide_type": "slide"
    }
   },
   "source": [
    "<p><img alt=\"https://www.kdnuggets.com/2017/11/framework-approaching-textual-data-tasks.html\" src=\"images/1_NLP_TextMining.jpg\" style=\"height:450px\" /></p>\n",
    "\n",
    "<p>[image source: <a href=\"https://www.elsevier.com/books/practical-text-mining-and-statistical-analysis-for-non-structured-text-data-applications/miner/978-0-12-386979-1\" target=\"_blank\">Gary M.:&quot;Practical Text Mining and Statistical Analysis for Non-structured Text Data Applications&quot;</a>]</p>\n"
   ]
  },
  {
   "cell_type": "markdown",
   "metadata": {
    "slideshow": {
     "slide_type": "slide"
    }
   },
   "source": [
    "<p><img alt=\"\" src=\"images/1_Text_Analytics.jpg\" style=\"height:500px; width:666px\" /></p>\n",
    "\n",
    "<p>[Image Source: <a href=\"http://www.pearson.com.au/products/S-Z-Turban-Sharda/Business-Intelligence-and-Analytics-Systems-for-Decision-Support-Global-Edition/9781292009209?R=9781292009209\" target=\"_blank\">Efraim T. &quot;Business Intelligence and Analytics: Systems for Decision Support, Global Edition (10e)</a>&quot;]</p>\n"
   ]
  },
  {
   "cell_type": "markdown",
   "metadata": {
    "slideshow": {
     "slide_type": "slide"
    }
   },
   "source": [
    "<p><strong>Brief History:</strong></p>\n",
    "\n",
    "<ul>\n",
    "\t<li>1950 Alan Turing :&nbsp;<a href=\"https://en.wikipedia.org/wiki/Computing_Machinery_and_Intelligence\" target=\"_blank\">Computing Machinery and Intelligence</a></li>\n",
    "\t<li>1954&nbsp;&nbsp;<a href=\"https://en.wikipedia.org/wiki/Georgetown-IBM_experiment\" target=\"_blank\">Georgetown experiment</a>&nbsp;: Russian - English machine translation</li>\n",
    "\t<li>1970s &quot;<a href=\"http://slideplayer.com/slide/5196/\" target=\"_blank\">Conceptual Ontologies</a>&quot; : non lexical - tanpa aspek grammar/syntax.</li>\n",
    "\t<li>1980s &quot;machine learning&quot;&nbsp;</li>\n",
    "\t<li>2000s Large data, semi/unsupervised approach, web, social media, deep learning.</li>\n",
    "</ul>\n"
   ]
  },
  {
   "cell_type": "markdown",
   "metadata": {
    "slideshow": {
     "slide_type": "slide"
    }
   },
   "source": [
    "<p><a href=\"https://en.wikipedia.org/wiki/Natural-language_processing#Major_evaluations_and_tasks\" target=\"_blank\"><strong>NLP Tasks</strong></a>:</p>\n",
    "\n",
    "<ul>\n",
    "\t<li><strong>Tokenization </strong>(Pemisahan teks ke entitas yang lebih kecil, misal&nbsp;paragraf, kalimat, atau kata)</li>\n",
    "\t<li><strong>Normalisasi </strong>&nbsp;(Case, Stopwords,&nbsp;Lemmatisasi,&nbsp;Stemming, etc)</li>\n",
    "\t<li><strong>Part of Speech Tagging</strong></li>\n",
    "\t<li><strong>Named Entity Recognition</strong></li>\n",
    "\t<li><strong>Parsing </strong>&nbsp;(grammar tree)&nbsp;</li>\n",
    "\t<li><strong>Topic Modelling</strong> (LSA, LDA, etc.)</li>\n",
    "\t<li><strong>Summarization</strong>, <strong>sentiment analysis</strong>, <strong>clustering</strong>, etc</li>\n",
    "</ul>\n"
   ]
  },
  {
   "cell_type": "markdown",
   "metadata": {
    "slideshow": {
     "slide_type": "slide"
    }
   },
   "source": [
    "<p><strong>Mengapa ada Social Media Analytics juga?</strong></p>\n",
    "\n",
    "<ul>\n",
    "\t<li>Studi kasus nyata (real-life application) terkini</li>\n",
    "\t<li>Data mudah di dapatkan.</li>\n",
    "\t<li>Distinct NLP/Text mining challenge : short, noise, volume, velocity, variety.</li>\n",
    "\t<li>Applicable to many areas: Marketing, politics, disaster management, retail, etc.</li>\n",
    "\t<li>Studi Kasus yang cukup menantang untuk aplikasi materi pelatihan ini</li>\n",
    "</ul>\n"
   ]
  },
  {
   "cell_type": "markdown",
   "metadata": {
    "slideshow": {
     "slide_type": "slide"
    }
   },
   "source": [
    "<p><strong>Scope (Asumsi/Batasan) Pembahasan:</strong></p>\n",
    "\n",
    "<ol>\n",
    "\t<li><strong>Teori (dasar) 20% Aplikasi 80%</strong>&nbsp;: fokus pada penggunaan dan bukan membentuk language model sendiri. Teori terbatas pada intuisi dari model.</li>\n",
    "\t<li>Fokus ke NLP &amp; text Mining<br />\n",
    "\t(SMA hanya untuk aplikasi /&nbsp;supplementary).</li>\n",
    "\t<li>Bahasa: Inggris dan Indonesia<br />\n",
    "\t(Asumsi penting karena NLP language dependent &amp; masalah encoding/decoding).</li>\n",
    "\t<li><strong>TS </strong>bukan ahli bahasa (lulusan Sastra Inggris/Indonesia)</li>\n",
    "\t<li>Media sosial: <em>twitter</em></li>\n",
    "\t<li>Basic Scalability (only) - tanpa pembahasan aplikasi di Big Data (Hadoop, Spark, dll) dan pemrosesan parallel.</li>\n",
    "\t<li>Pemula di NLP &amp;/ Text Mining dengan pengetahuan dasar Python (3.6)</li>\n",
    "\t<li>Fungsi utama Modul dibahas, tapi minor technicalities dari pengaplikasiannya cukup diberikan di personal library.</li>\n",
    "</ol>\n"
   ]
  },
  {
   "cell_type": "markdown",
   "metadata": {
    "slideshow": {
     "slide_type": "slide"
    }
   },
   "source": [
    "<p><strong>Target Pelatihan:</strong></p>\n",
    "\n",
    "<ol>\n",
    "\t<li>Text Preprocessing</li>\n",
    "\t<li>Information Extraction : NLP (Language model) &amp; Clustering</li>\n",
    "\t<li>Machine Learning Applications: Classification, Sentiment Analysis, word embedding</li>\n",
    "\t<li>Data Summarization: Topic Modelling, TextRank</li>\n",
    "\t<li>Recommendation Model</li>\n",
    "\t<li>Text Visualizations</li>\n",
    "</ol>\n"
   ]
  },
  {
   "cell_type": "markdown",
   "metadata": {
    "slideshow": {
     "slide_type": "slide"
    }
   },
   "source": [
    "<p><img alt=\"\" src=\"images\\1_Python_Modules.png\" style=\"height:328px; width:800px\" /></p>\n"
   ]
  },
  {
   "cell_type": "markdown",
   "metadata": {},
   "source": [
    "<p><strong>Library NLP yang tidak dibahas dalam pelatihan ini:</strong></p>\n",
    "\n",
    "<p><strong>Stanford CoreNLP </strong>: Java based dengan Python wrapper<br />\n",
    "<a href=\"https://stanfordnlp.github.io/CoreNLP/other-languages.html#python\" target=\"_blank\">https://stanfordnlp.github.io/CoreNLP/other-languages.html#python</a><br />\n",
    "Tersedia dalam beberapa bahasa pemrograman (karena ini, maka CoreNLP populer)<br />\n",
    "di develop oleh tokoh IR terkenal&nbsp;<strong>Christopher D. Manning</strong></p>\n",
    "\n",
    "<p><strong>MBSP </strong>: Basisnya modul Pattern, hanya tersedia untuk Python 2 (old)</p>\n"
   ]
  },
  {
   "cell_type": "markdown",
   "metadata": {
    "collapsed": true,
    "slideshow": {
     "slide_type": "slide"
    }
   },
   "source": [
    "<p>Python Codes yang dibahas di pelatihan ini telah di cek (verifikasi) di lingkungan berikut:</p>\n",
    "\n",
    "<ol>\n",
    "\t<li><strong>Python 3.6.3</strong> (Anaconda 3.501/ WinPython 3.6.3 <strong>64 bit</strong>),&nbsp;OS Windows 10</li>\n",
    "\t<li><strong>Modules </strong>: NLTK&gt;=3.2.5, gensim&gt;=3.1.0, spacy&gt;=2.0.5, scikit-learn&gt;=0.19.1, pyLDAvis&gt;=2.1.1, networkx&gt;=2.0, tqdm&gt;=4.19.4, textblob&gt;=0.15.0, numpy&gt;=1.13.3, twython&gt;=3.6.0, wordcloud&gt;=1.3.1, tweepy&gt;=3.5.0, scipy&gt;=1.0.0, community&gt;=1.0.2</li>\n",
    "\t<li>Catatan: beberapa fungsi di pelatihan ini membutuhkan koneksi internet ketika di eksekusi. Yakinkan tidak ada masalah koneksi sebelum pelatihan dimulai</li>\n",
    "</ol>\n"
   ]
  },
  {
   "cell_type": "markdown",
   "metadata": {
    "slideshow": {
     "slide_type": "slide"
    }
   },
   "source": [
    "<p><u><strong><big>Instalasi &amp; Cara Menggunakan Code Python di Pelatihan ini:</big></strong></u></p>\n",
    "\n",
    "<ol>\n",
    "\t<li>Instalasi Python (portable):&nbsp; &quot;<em>Extract here</em>&quot; <strong>WinPython.zip</strong>&nbsp;ke sembarang Directory (misal <u><strong><em>C:\\WinPython\\</em></strong></u>)*<br />\n",
    "\tDapat di unduh dari URL ini:&nbsp;<a href=\"http://bit.ly/TS_ITTC\" target=\"_blank\">http://bit.ly/TS_ITTC</a><br />\n",
    "\tJika komputer yang digunakan 32bit, harap meng-unduh file <strong>WinPython_32bit.zip</strong>.</li>\n",
    "\t<li>Unduh <strong>Slides.zip</strong> dan &quot;<em>extract here</em>&quot; di folder C:\\WinPython\\notebooks\\&nbsp; &nbsp;[pilih &quot;<em>replace all</em>&quot;]</li>\n",
    "\t<li>Jalankan Jupyter dengan mengeksekusi &quot;<strong>Jupyter Notebook.exe</strong>&quot; di C:\\WinPython</li>\n",
    "</ol>\n"
   ]
  },
  {
   "cell_type": "markdown",
   "metadata": {
    "slideshow": {
     "slide_type": "slide"
    }
   },
   "source": [
    "<p><strong>Referensi &amp; Resources Tambahan</strong>:</p>\n",
    "\n",
    "<ol>\n",
    "\t<li>Di setiap slide/cell biasanya terdapat link pada istilah/konsep tertentu.</li>\n",
    "\t<li>Web//blog :&nbsp;<a href=\"http://taufiksutanto.blogspot.co.id/\" target=\"_blank\"><strong>http://taufiksutanto.blogspot.com/</strong></a></li>\n",
    "\t<li>Daftar referensi di akhir slide ini.</li>\n",
    "</ol>\n"
   ]
  },
  {
   "cell_type": "markdown",
   "metadata": {
    "slideshow": {
     "slide_type": "slide"
    }
   },
   "source": [
    "<p><strong>Hari ke-1: Natural Language Processing</strong></p>\n",
    "\n",
    "<ol>\n",
    "\t<li>Pendahuluan NLP</li>\n",
    "\t<li>Tokenization</li>\n",
    "\t<li>Preprocessing</li>\n",
    "\t<li>Reguler Expression</li>\n",
    "\t<li>Lemmatization dan Stemming</li>\n",
    "\t<li>Names Entity Recognition</li>\n",
    "\t<li>text prediction</li>\n",
    "\t<li>Syntax parsing</li>\n",
    "\t<li>Word Sense Disambiguation</li>\n",
    "\t<li>Spell-Check</li>\n",
    "\t<li>Machine Translation</li>\n",
    "</ol>\n",
    "\n",
    "<p><em>Alokasi waktu bisa flexible jika memang diperlukan &amp; disepakati bersama&nbsp;(bahkan lintas hari)</em><br />\n",
    "Prioritas pelatihan : NLP&gt;&gt;Text Mining&gt;&gt;Social Media Analytics.</p>\n"
   ]
  },
  {
   "cell_type": "markdown",
   "metadata": {
    "slideshow": {
     "slide_type": "slide"
    }
   },
   "source": [
    "<p><strong>Hari ke-2: Text Mining</strong></p>\n",
    "\n",
    "<ol>\n",
    "\t<li>Representasi Dokumen</li>\n",
    "\t<li>Text Clustering</li>\n",
    "\t<li>Text Categorization</li>\n",
    "    <li>Rekomendasi</li>\n",
    "    <li>Document Summarization</li>\n",
    "</ol>\n"
   ]
  },
  {
   "cell_type": "markdown",
   "metadata": {
    "slideshow": {
     "slide_type": "slide"
    }
   },
   "source": [
    "<p><strong>Hari ke-3: Social Media Analytics</strong></p>\n",
    "\n",
    "<ol>\n",
    "    <li>Topic Modelling</li>\n",
    "    <li>Sentiment Analysis</li>\n",
    "\t<li>Crawling Social Media</li>\n",
    "\t<li>Community Detection</li>\n",
    "    <li>Centrality Analysis</li>\n",
    "\t<li>Text Visualisations</li>\n",
    "</ol>\n",
    "\n",
    "<p>Fokus ke studi kasus karena, sebagian dasar metodenya sudah di bahas di hari ke-1 dan 2.</p>\n"
   ]
  },
  {
   "cell_type": "markdown",
   "metadata": {
    "slideshow": {
     "slide_type": "slide"
    }
   },
   "source": [
    "<p><strong>Daftar Pustaka:</strong></p>\n",
    "\n",
    "<ol>\n",
    "\t<li>Chopra, D., Joshi, N., &amp; Mathur, I. (2016).&nbsp;<em>Mastering Natural Language Processing with Python</em>. Packt Publishing Ltd.</li>\n",
    "\t<li>Siddhartha Chatterjee, Michal Krystyanczuk. (2017).Python Social Media Analytics. Packt Publishing Ltd.</li>\n",
    "\t<li>Farzindar, A., &amp; Inkpen, D. (2017). Natural language processing for social media.&nbsp;<em>Synthesis Lectures on Human Language Technologies</em>,&nbsp;<em>10</em>(2), 1-195.</li>\n",
    "\t<li>Kao, A., &amp; Poteet, S. R. (Eds.). (2007).&nbsp;<em>Natural language processing and text mining</em>. Springer Science &amp; Business Media.</li>\n",
    "\t<li>Perkins, J. (2014).&nbsp;<em>Python 3 Text Processing with NLTK 3 Cookbook</em>. Packt Publishing Ltd.</li>\n",
    "\t<li><a href=\"http://www.nltk.org/book/\">http://www.nltk.org/book/</a></li>\n",
    "</ol>\n"
   ]
  },
  {
   "cell_type": "markdown",
   "metadata": {
    "slideshow": {
     "slide_type": "slide"
    }
   },
   "source": [
    "<p><img alt=\"\" src=\"images/1_Computer_feeling.jpg\" style=\"height:509px; width:660px\" /></p>\n"
   ]
  }
 ],
 "metadata": {
  "celltoolbar": "Slideshow",
  "kernelspec": {
   "display_name": "Python 3",
   "language": "python",
   "name": "python3"
  },
  "language_info": {
   "codemirror_mode": {
    "name": "ipython",
    "version": 3
   },
   "file_extension": ".py",
   "mimetype": "text/x-python",
   "name": "python",
   "nbconvert_exporter": "python",
   "pygments_lexer": "ipython3",
   "version": "3.6.3"
  }
 },
 "nbformat": 4,
 "nbformat_minor": 2
}
